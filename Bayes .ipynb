{
 "cells": [
  {
   "cell_type": "markdown",
   "metadata": {},
   "source": [
    "# Bayes classifier algorithm"
   ]
  },
  {
   "cell_type": "markdown",
   "metadata": {},
   "source": [
    "## Importing requiered libraries"
   ]
  },
  {
   "cell_type": "code",
   "execution_count": 1,
   "metadata": {},
   "outputs": [],
   "source": [
    "import numpy as np\n",
    "import cv2\n",
    "import math"
   ]
  },
  {
   "cell_type": "markdown",
   "metadata": {},
   "source": [
    "## Getting training samples"
   ]
  },
  {
   "cell_type": "code",
   "execution_count": 2,
   "metadata": {},
   "outputs": [],
   "source": [
    "def get_samples(img_test):\n",
    "    img_back_1 = img_test[0:50,0:50]\n",
    "    img_back_2 = img_test[img_test.shape[0]-50:img_test.shape[0],img_test.shape[1]-50:img_test.shape[1]]\n",
    "    img_back = np.append(img_back_1,img_back_2,axis = 1)\n",
    "    img_obj = img_test[int((img_test.shape[0]/2)-50):int((img_test.shape[0]/2)+50),\n",
    "                     int((img_test.shape[1]/2)-50):int((img_test.shape[1])/2)+50]\n",
    "    return img_back,img_obj"
   ]
  },
  {
   "cell_type": "markdown",
   "metadata": {},
   "source": [
    "## Computing means of object and background"
   ]
  },
  {
   "cell_type": "code",
   "execution_count": 3,
   "metadata": {},
   "outputs": [],
   "source": [
    "def compute_means(img_back,img_obj):\n",
    "    z_back = np.sum(img_back,axis = 0,keepdims = True)\n",
    "    z_back = np.sum(z_back,axis = 1,keepdims = True)\n",
    "    sum_back = z_back.reshape(3,1)\n",
    "    mean_back = sum_back / (img_back.shape[0] * img_back.shape[1])\n",
    "    z_obj = np.sum(img_obj,axis = 0,keepdims = True)\n",
    "    z_obj = np.sum(z_obj,axis = 1,keepdims = True)\n",
    "    sum_obj = z_obj.reshape(3,1)\n",
    "    mean_obj = sum_obj / (img_obj.shape[0] * img_obj.shape[1])\n",
    "    return mean_back,mean_obj"
   ]
  },
  {
   "cell_type": "markdown",
   "metadata": {},
   "source": [
    "## Computing covariance matrix and its determinants"
   ]
  },
  {
   "cell_type": "code",
   "execution_count": 4,
   "metadata": {},
   "outputs": [],
   "source": [
    "def compute_covariance(mean_back,mean_obj,img_back,img_obj):\n",
    "    sum_products_back = np.zeros((3,3))\n",
    "    Xk_back = np.zeros((3,1))\n",
    "    sum_products_obj = np.zeros((3,3))\n",
    "    Xk_obj = np.zeros((3,1))\n",
    "    for i in range (img_back.shape[0]):\n",
    "        for j in range (img_back.shape[1]):      \n",
    "            Xk_back = img_back[i,j,0:3]\n",
    "            Xk_back.resize((3,1))\n",
    "            product = np.dot(Xk_back-mean_back,(Xk_back-mean_back).T)\n",
    "            sum_products_back += product\n",
    "    covar_back = sum_products_back/(img_back.shape[0] * img_back.shape[1])\n",
    "    covar_det_back = np.linalg.det(covar_back)\n",
    "    for i in range (img_obj.shape[0]):\n",
    "        for j in range (img_obj.shape[1]):      \n",
    "            Xk_obj = img_obj[i,j,0:3]\n",
    "            Xk_obj.resize((3,1))\n",
    "            product = np.dot(Xk_obj-mean_obj,(Xk_obj-mean_obj).T)\n",
    "            sum_products_obj += product\n",
    "    covar_obj = sum_products_obj/(img_back.shape[0] * img_back.shape[1])\n",
    "    covar_det_obj = np.linalg.det(covar_obj)\n",
    "    return covar_back,covar_obj,covar_det_back,covar_det_obj"
   ]
  },
  {
   "cell_type": "markdown",
   "metadata": {},
   "source": [
    "## Classifying each pixel in the image as object or background"
   ]
  },
  {
   "cell_type": "code",
   "execution_count": 5,
   "metadata": {},
   "outputs": [],
   "source": [
    "def compute_pixels_classification(img_test,mean_back,mean_obj,covar_back,covar_obj,covar_det_back,covar_det_obj):\n",
    "    pixel = np.zeros((3,1))\n",
    "    img_test_result = img_test.copy()\n",
    "    mean_color_back = mean_back.reshape((1,1,3))\n",
    "    mean_color_obj = mean_obj.reshape((1,1,3))\n",
    "    for i in range(img_test.shape[0]):\n",
    "        for j in range(img_test.shape[1]):\n",
    "            pixel = img_test[i][j].reshape((3,1))\n",
    "            log_prob_back = -(3/2)*math.log(2*math.pi) - 0.5*math.log(covar_det_back)-0.5*np.dot(np.dot((pixel-mean_back).T,\n",
    "                                                                            np.linalg.inv(covar_back)),pixel-mean_back)\n",
    "            log_prob_obj = -(3/2)*math.log(2*math.pi) - 0.5*math.log(covar_det_obj)-0.5*np.dot(np.dot((pixel-mean_obj).T,\n",
    "                                                                            np.linalg.inv(covar_obj)),pixel-mean_obj)\n",
    "            if log_prob_obj>log_prob_back:\n",
    "                img_test_result[i][j] = mean_color_obj.astype(int)\n",
    "            else:\n",
    "                img_test_result[i][j] = mean_color_back.astype(int)\n",
    "    return img_test_result"
   ]
  },
  {
   "cell_type": "markdown",
   "metadata": {},
   "source": [
    "## Model integration"
   ]
  },
  {
   "cell_type": "code",
   "execution_count": 6,
   "metadata": {},
   "outputs": [
    {
     "name": "stdout",
     "output_type": "stream",
     "text": [
      "F:01-14-22-02_18_53.jpg\n"
     ]
    }
   ],
   "source": [
    "import time\n",
    "date = time.strftime('%m-%d-%y-%H_%M_%S')\n",
    "img_test = cv2.imread('F:/images/gym/20210917_184222.jpg')\n",
    "img_test = cv2.resize(img_test,(480,480))\n",
    "img_back,img_obj = get_samples(img_test)\n",
    "mean_back,mean_obj = compute_means(img_back,img_obj)\n",
    "covar_back,covar_obj,covar_det_back,covar_det_obj = compute_covariance(mean_back,mean_obj,img_back,img_obj)\n",
    "img_test_result = compute_pixels_classification(img_test,mean_back,mean_obj,covar_back,covar_obj,covar_det_back,covar_det_obj)\n",
    "cv2.imshow(\"img_test\", img_test)\n",
    "cv2.imshow(\"img_test_result\", img_test_result)\n",
    "path = \"F:\" + date + \".jpg\"\n",
    "print(path)\n",
    "cv2.imwrite(path,img_test_result)\n",
    "cv2.waitKey()\n",
    "cv2.destroyAllWindows()"
   ]
  },
  {
   "cell_type": "code",
   "execution_count": 9,
   "metadata": {
    "scrolled": true
   },
   "outputs": [
    {
     "data": {
      "text/plain": [
       "(2592, 1944, 3)"
      ]
     },
     "execution_count": 9,
     "metadata": {},
     "output_type": "execute_result"
    }
   ],
   "source": [
    "img_test.shape"
   ]
  },
  {
   "cell_type": "code",
   "execution_count": null,
   "metadata": {},
   "outputs": [],
   "source": []
  }
 ],
 "metadata": {
  "kernelspec": {
   "display_name": "Python 3",
   "language": "python",
   "name": "python3"
  },
  "language_info": {
   "codemirror_mode": {
    "name": "ipython",
    "version": 3
   },
   "file_extension": ".py",
   "mimetype": "text/x-python",
   "name": "python",
   "nbconvert_exporter": "python",
   "pygments_lexer": "ipython3",
   "version": "3.8.5"
  }
 },
 "nbformat": 4,
 "nbformat_minor": 4
}
